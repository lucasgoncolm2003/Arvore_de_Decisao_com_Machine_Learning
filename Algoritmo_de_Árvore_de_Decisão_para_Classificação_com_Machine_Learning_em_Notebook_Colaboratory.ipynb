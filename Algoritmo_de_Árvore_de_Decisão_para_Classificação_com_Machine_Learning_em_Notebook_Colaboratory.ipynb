{
  "cells": [
    {
      "cell_type": "markdown",
      "metadata": {
        "id": "view-in-github",
        "colab_type": "text"
      },
      "source": [
        "<a href=\"https://colab.research.google.com/github/lucasgoncolm2003/Arvore_de_Decisao_com_Machine_Learning/blob/main/Algoritmo_de_%C3%81rvore_de_Decis%C3%A3o_para_Classifica%C3%A7%C3%A3o_com_Machine_Learning_em_Notebook_Colaboratory.ipynb\" target=\"_parent\"><img src=\"https://colab.research.google.com/assets/colab-badge.svg\" alt=\"Open In Colab\"/></a>"
      ]
    },
    {
      "cell_type": "markdown",
      "source": [
        "# **Conceito de Árvore de Decisão em Machine Learning**\n",
        "> A Árvore de Decisão possui uma Composição semelhante a um Fluxograma, com Etapas e Condições. É uma boa técnica pois oferece uma boa Compreensão para o Usuário e para a Machine Learning. Uma Árvore de Decisão é um Algoritmo de Aprendizado Supervisionado de Máquina usado para Classificação e Regressão, tanto para a Previsão de Categorias Discretas quanto para Valores Numéricos.\n",
        "\n",
        "> Em um Fluxograma, a Árvore estabelece Nós de Decisão que se relacionam por Hierarquia. Existe também o Nó-Raiz, o mais importante e inicial, e os Nós-Folha, que são os resultados finais. O Nó-Raiz é um dos Atributos da Base de Dados e o Nó-Folha é a Classe de Resposta.\n",
        "*   **Nó-Raiz**: Atributo Inicial da Base de Dados.\n",
        "*   **Nó-Folha**: Atributo Final ou Resposta da Base de Dados.\n",
        "\n",
        "> A Relação entre os Nós consiste em uma Condicional \"se-então\". Ao chegar em um Nó A, se a Condição dele for Verdadeira, ele vai para um lado da Árvore, se não for, vai para outro lado da Árvore. Esse Algoritmo opera com Recursividade, replicando Padrões na medida em que entra em Novos Níveis de Profundidade. Para encontrar os Nós e encaixá-los em suas Posições, Cálculos são fundamentais.\n",
        "\n",
        "\n",
        "\n",
        "\n",
        "\n",
        "\n",
        "\n",
        "\n",
        "\n",
        "\n",
        "\n",
        "\n",
        "\n",
        "\n",
        " "
      ],
      "metadata": {
        "id": "vB_Xk9M0TNkt"
      },
      "id": "vB_Xk9M0TNkt"
    },
    {
      "cell_type": "code",
      "execution_count": null,
      "id": "aea31d4c",
      "metadata": {
        "id": "aea31d4c"
      },
      "outputs": [],
      "source": [
        "# Importando o pandas\n",
        "import pandas as pd"
      ]
    },
    {
      "cell_type": "code",
      "execution_count": null,
      "id": "4c469115",
      "metadata": {
        "id": "4c469115"
      },
      "outputs": [],
      "source": [
        "# Importando o dataset iris\n",
        "from sklearn.datasets import load_iris"
      ]
    },
    {
      "cell_type": "markdown",
      "source": [
        "# **O Ganho de Informação e a Entropia**\n",
        "> Uma abordagem comum é o Ganho de Informação e a Entropia. Essas Variáveis falam sobre a Desorganização e a Falta de Uniformidade em Dados. Quanto maior a Entropia, maior é o Caos e a Mistura entre os Dados. É preciso portanto, calcular a Entropia das Classes de Saída e o Ganho de Informação dos Atributos da Base de Dados. Quem tiver o Maior Ganho de Informação entre os Atributos deve ser o Nó-Raiz.\n",
        "\n",
        "> Para dividir a Base de Dados em uma Árvore, existem Condições, dividindo a Base em Caminhos com Análise de Registros que satisfazem certa Condição. O Ganho de Informação é baseado nisso, pois quando os Registros Separados pela Condição tornam-se Homogêneos, há Alto Ganho de Informação, ou seja, é mais provável saber a Saída Esperada em relação à Base de Dados organizada da forma tal qual estava antes."
      ],
      "metadata": {
        "id": "TSpvoHN_higa"
      },
      "id": "TSpvoHN_higa"
    },
    {
      "cell_type": "code",
      "execution_count": null,
      "id": "f787ee56",
      "metadata": {
        "id": "f787ee56"
      },
      "outputs": [],
      "source": [
        "# Retornando os dados\n",
        "data = load_iris()"
      ]
    },
    {
      "cell_type": "code",
      "execution_count": null,
      "id": "2a7ae944",
      "metadata": {
        "id": "2a7ae944",
        "outputId": "d1fd7808-826c-4ab7-9234-8cbef1cd1cf3",
        "colab": {
          "base_uri": "https://localhost:8080/",
          "height": 424
        }
      },
      "outputs": [
        {
          "output_type": "execute_result",
          "data": {
            "text/plain": [
              "    sepal length (cm)  sepal width (cm)  petal length (cm)  petal width (cm)  \\\n",
              "0                 5.1               3.5                1.4               0.2   \n",
              "1                 4.9               3.0                1.4               0.2   \n",
              "2                 4.7               3.2                1.3               0.2   \n",
              "3                 4.6               3.1                1.5               0.2   \n",
              "4                 5.0               3.6                1.4               0.2   \n",
              "..                ...               ...                ...               ...   \n",
              "95                5.7               3.0                4.2               1.2   \n",
              "96                5.7               2.9                4.2               1.3   \n",
              "97                6.2               2.9                4.3               1.3   \n",
              "98                5.1               2.5                3.0               1.1   \n",
              "99                5.7               2.8                4.1               1.3   \n",
              "\n",
              "    target  \n",
              "0        0  \n",
              "1        0  \n",
              "2        0  \n",
              "3        0  \n",
              "4        0  \n",
              "..     ...  \n",
              "95       1  \n",
              "96       1  \n",
              "97       1  \n",
              "98       1  \n",
              "99       1  \n",
              "\n",
              "[100 rows x 5 columns]"
            ],
            "text/html": [
              "\n",
              "  <div id=\"df-b50780d9-1e40-454e-afc0-1273a61ec5fc\">\n",
              "    <div class=\"colab-df-container\">\n",
              "      <div>\n",
              "<style scoped>\n",
              "    .dataframe tbody tr th:only-of-type {\n",
              "        vertical-align: middle;\n",
              "    }\n",
              "\n",
              "    .dataframe tbody tr th {\n",
              "        vertical-align: top;\n",
              "    }\n",
              "\n",
              "    .dataframe thead th {\n",
              "        text-align: right;\n",
              "    }\n",
              "</style>\n",
              "<table border=\"1\" class=\"dataframe\">\n",
              "  <thead>\n",
              "    <tr style=\"text-align: right;\">\n",
              "      <th></th>\n",
              "      <th>sepal length (cm)</th>\n",
              "      <th>sepal width (cm)</th>\n",
              "      <th>petal length (cm)</th>\n",
              "      <th>petal width (cm)</th>\n",
              "      <th>target</th>\n",
              "    </tr>\n",
              "  </thead>\n",
              "  <tbody>\n",
              "    <tr>\n",
              "      <th>0</th>\n",
              "      <td>5.1</td>\n",
              "      <td>3.5</td>\n",
              "      <td>1.4</td>\n",
              "      <td>0.2</td>\n",
              "      <td>0</td>\n",
              "    </tr>\n",
              "    <tr>\n",
              "      <th>1</th>\n",
              "      <td>4.9</td>\n",
              "      <td>3.0</td>\n",
              "      <td>1.4</td>\n",
              "      <td>0.2</td>\n",
              "      <td>0</td>\n",
              "    </tr>\n",
              "    <tr>\n",
              "      <th>2</th>\n",
              "      <td>4.7</td>\n",
              "      <td>3.2</td>\n",
              "      <td>1.3</td>\n",
              "      <td>0.2</td>\n",
              "      <td>0</td>\n",
              "    </tr>\n",
              "    <tr>\n",
              "      <th>3</th>\n",
              "      <td>4.6</td>\n",
              "      <td>3.1</td>\n",
              "      <td>1.5</td>\n",
              "      <td>0.2</td>\n",
              "      <td>0</td>\n",
              "    </tr>\n",
              "    <tr>\n",
              "      <th>4</th>\n",
              "      <td>5.0</td>\n",
              "      <td>3.6</td>\n",
              "      <td>1.4</td>\n",
              "      <td>0.2</td>\n",
              "      <td>0</td>\n",
              "    </tr>\n",
              "    <tr>\n",
              "      <th>...</th>\n",
              "      <td>...</td>\n",
              "      <td>...</td>\n",
              "      <td>...</td>\n",
              "      <td>...</td>\n",
              "      <td>...</td>\n",
              "    </tr>\n",
              "    <tr>\n",
              "      <th>95</th>\n",
              "      <td>5.7</td>\n",
              "      <td>3.0</td>\n",
              "      <td>4.2</td>\n",
              "      <td>1.2</td>\n",
              "      <td>1</td>\n",
              "    </tr>\n",
              "    <tr>\n",
              "      <th>96</th>\n",
              "      <td>5.7</td>\n",
              "      <td>2.9</td>\n",
              "      <td>4.2</td>\n",
              "      <td>1.3</td>\n",
              "      <td>1</td>\n",
              "    </tr>\n",
              "    <tr>\n",
              "      <th>97</th>\n",
              "      <td>6.2</td>\n",
              "      <td>2.9</td>\n",
              "      <td>4.3</td>\n",
              "      <td>1.3</td>\n",
              "      <td>1</td>\n",
              "    </tr>\n",
              "    <tr>\n",
              "      <th>98</th>\n",
              "      <td>5.1</td>\n",
              "      <td>2.5</td>\n",
              "      <td>3.0</td>\n",
              "      <td>1.1</td>\n",
              "      <td>1</td>\n",
              "    </tr>\n",
              "    <tr>\n",
              "      <th>99</th>\n",
              "      <td>5.7</td>\n",
              "      <td>2.8</td>\n",
              "      <td>4.1</td>\n",
              "      <td>1.3</td>\n",
              "      <td>1</td>\n",
              "    </tr>\n",
              "  </tbody>\n",
              "</table>\n",
              "<p>100 rows × 5 columns</p>\n",
              "</div>\n",
              "      <button class=\"colab-df-convert\" onclick=\"convertToInteractive('df-b50780d9-1e40-454e-afc0-1273a61ec5fc')\"\n",
              "              title=\"Convert this dataframe to an interactive table.\"\n",
              "              style=\"display:none;\">\n",
              "        \n",
              "  <svg xmlns=\"http://www.w3.org/2000/svg\" height=\"24px\"viewBox=\"0 0 24 24\"\n",
              "       width=\"24px\">\n",
              "    <path d=\"M0 0h24v24H0V0z\" fill=\"none\"/>\n",
              "    <path d=\"M18.56 5.44l.94 2.06.94-2.06 2.06-.94-2.06-.94-.94-2.06-.94 2.06-2.06.94zm-11 1L8.5 8.5l.94-2.06 2.06-.94-2.06-.94L8.5 2.5l-.94 2.06-2.06.94zm10 10l.94 2.06.94-2.06 2.06-.94-2.06-.94-.94-2.06-.94 2.06-2.06.94z\"/><path d=\"M17.41 7.96l-1.37-1.37c-.4-.4-.92-.59-1.43-.59-.52 0-1.04.2-1.43.59L10.3 9.45l-7.72 7.72c-.78.78-.78 2.05 0 2.83L4 21.41c.39.39.9.59 1.41.59.51 0 1.02-.2 1.41-.59l7.78-7.78 2.81-2.81c.8-.78.8-2.07 0-2.86zM5.41 20L4 18.59l7.72-7.72 1.47 1.35L5.41 20z\"/>\n",
              "  </svg>\n",
              "      </button>\n",
              "      \n",
              "  <style>\n",
              "    .colab-df-container {\n",
              "      display:flex;\n",
              "      flex-wrap:wrap;\n",
              "      gap: 12px;\n",
              "    }\n",
              "\n",
              "    .colab-df-convert {\n",
              "      background-color: #E8F0FE;\n",
              "      border: none;\n",
              "      border-radius: 50%;\n",
              "      cursor: pointer;\n",
              "      display: none;\n",
              "      fill: #1967D2;\n",
              "      height: 32px;\n",
              "      padding: 0 0 0 0;\n",
              "      width: 32px;\n",
              "    }\n",
              "\n",
              "    .colab-df-convert:hover {\n",
              "      background-color: #E2EBFA;\n",
              "      box-shadow: 0px 1px 2px rgba(60, 64, 67, 0.3), 0px 1px 3px 1px rgba(60, 64, 67, 0.15);\n",
              "      fill: #174EA6;\n",
              "    }\n",
              "\n",
              "    [theme=dark] .colab-df-convert {\n",
              "      background-color: #3B4455;\n",
              "      fill: #D2E3FC;\n",
              "    }\n",
              "\n",
              "    [theme=dark] .colab-df-convert:hover {\n",
              "      background-color: #434B5C;\n",
              "      box-shadow: 0px 1px 3px 1px rgba(0, 0, 0, 0.15);\n",
              "      filter: drop-shadow(0px 1px 2px rgba(0, 0, 0, 0.3));\n",
              "      fill: #FFFFFF;\n",
              "    }\n",
              "  </style>\n",
              "\n",
              "      <script>\n",
              "        const buttonEl =\n",
              "          document.querySelector('#df-b50780d9-1e40-454e-afc0-1273a61ec5fc button.colab-df-convert');\n",
              "        buttonEl.style.display =\n",
              "          google.colab.kernel.accessAllowed ? 'block' : 'none';\n",
              "\n",
              "        async function convertToInteractive(key) {\n",
              "          const element = document.querySelector('#df-b50780d9-1e40-454e-afc0-1273a61ec5fc');\n",
              "          const dataTable =\n",
              "            await google.colab.kernel.invokeFunction('convertToInteractive',\n",
              "                                                     [key], {});\n",
              "          if (!dataTable) return;\n",
              "\n",
              "          const docLinkHtml = 'Like what you see? Visit the ' +\n",
              "            '<a target=\"_blank\" href=https://colab.research.google.com/notebooks/data_table.ipynb>data table notebook</a>'\n",
              "            + ' to learn more about interactive tables.';\n",
              "          element.innerHTML = '';\n",
              "          dataTable['output_type'] = 'display_data';\n",
              "          await google.colab.output.renderOutput(dataTable, element);\n",
              "          const docLink = document.createElement('div');\n",
              "          docLink.innerHTML = docLinkHtml;\n",
              "          element.appendChild(docLink);\n",
              "        }\n",
              "      </script>\n",
              "    </div>\n",
              "  </div>\n",
              "  "
            ]
          },
          "metadata": {},
          "execution_count": 16
        }
      ],
      "source": [
        "# Transformando em um DataFrame\n",
        "iris = pd.DataFrame(data.data)\n",
        "iris.columns = data.feature_names\n",
        "iris['target'] = data.target\n",
        "iris.head(100)"
      ]
    },
    {
      "cell_type": "markdown",
      "source": [
        "# **Aplicação e Conceito de Random Forest**\n",
        "> As Árvores servem para Classificação ou Regressão, ambos tipos de Tarefas da Aprendizado Supervisionado. Essa Versatilidade explica o sucesso do algoritmo em comparação com o Naive-Bayes ou outros Algoritmos. Outra aplicação é quando existem Problemas de Diversos Rótulos. Ou seja, quando as Categorias de Classificação são Múltiplas, e não só duas. Outros Algoritmos apresentam Problemas com mais Complexidade, ao passo que com as Árvores, Cientistas de Dados podem lidar com isso de uma forma fácil.\n",
        "\n",
        "\n",
        "> Com as Árvores, os Valores fora do Padrão (Outliers) ou Valores Atípicos não são prejudiciais, e poucos Tratamentos são precisos. O Algoritmo também funciona para Informações Categóricas ou Nominais, ou seja, não é preciso realizar a Conversão de Tipos de Dados. As Random Forests (Florestas Aleatórias) são casos usados para Classificação e Regressão, sendo um Conjunto de Árvores de Decisão que oferecem Predição sobre um Conjunto de Dados. A Categoria mais Recorrente nos Resultados das Árvores influencia na Avaliação da mesma para Tomada de Decisão."
      ],
      "metadata": {
        "id": "GjvGhMKBjJ0R"
      },
      "id": "GjvGhMKBjJ0R"
    },
    {
      "cell_type": "code",
      "execution_count": null,
      "id": "3d68129f",
      "metadata": {
        "id": "3d68129f"
      },
      "outputs": [],
      "source": [
        "# Selecionando apenas as colunas de pétala e esses targets\n",
        "iris1 = iris.loc[iris.target.isin([1,2]),['petal length (cm)', 'petal width (cm)', 'target']]"
      ]
    },
    {
      "cell_type": "code",
      "execution_count": null,
      "id": "4ae5eaf3",
      "metadata": {
        "id": "4ae5eaf3",
        "outputId": "1a3b5f70-1572-4137-a0b1-3048992d6b83",
        "colab": {
          "base_uri": "https://localhost:8080/",
          "height": 424
        }
      },
      "outputs": [
        {
          "output_type": "execute_result",
          "data": {
            "text/plain": [
              "     petal length (cm)  petal width (cm)\n",
              "50                 4.7               1.4\n",
              "51                 4.5               1.5\n",
              "52                 4.9               1.5\n",
              "53                 4.0               1.3\n",
              "54                 4.6               1.5\n",
              "..                 ...               ...\n",
              "145                5.2               2.3\n",
              "146                5.0               1.9\n",
              "147                5.2               2.0\n",
              "148                5.4               2.3\n",
              "149                5.1               1.8\n",
              "\n",
              "[100 rows x 2 columns]"
            ],
            "text/html": [
              "\n",
              "  <div id=\"df-e336a301-b7c7-4837-bdd2-b4bb2d37271b\">\n",
              "    <div class=\"colab-df-container\">\n",
              "      <div>\n",
              "<style scoped>\n",
              "    .dataframe tbody tr th:only-of-type {\n",
              "        vertical-align: middle;\n",
              "    }\n",
              "\n",
              "    .dataframe tbody tr th {\n",
              "        vertical-align: top;\n",
              "    }\n",
              "\n",
              "    .dataframe thead th {\n",
              "        text-align: right;\n",
              "    }\n",
              "</style>\n",
              "<table border=\"1\" class=\"dataframe\">\n",
              "  <thead>\n",
              "    <tr style=\"text-align: right;\">\n",
              "      <th></th>\n",
              "      <th>petal length (cm)</th>\n",
              "      <th>petal width (cm)</th>\n",
              "    </tr>\n",
              "  </thead>\n",
              "  <tbody>\n",
              "    <tr>\n",
              "      <th>50</th>\n",
              "      <td>4.7</td>\n",
              "      <td>1.4</td>\n",
              "    </tr>\n",
              "    <tr>\n",
              "      <th>51</th>\n",
              "      <td>4.5</td>\n",
              "      <td>1.5</td>\n",
              "    </tr>\n",
              "    <tr>\n",
              "      <th>52</th>\n",
              "      <td>4.9</td>\n",
              "      <td>1.5</td>\n",
              "    </tr>\n",
              "    <tr>\n",
              "      <th>53</th>\n",
              "      <td>4.0</td>\n",
              "      <td>1.3</td>\n",
              "    </tr>\n",
              "    <tr>\n",
              "      <th>54</th>\n",
              "      <td>4.6</td>\n",
              "      <td>1.5</td>\n",
              "    </tr>\n",
              "    <tr>\n",
              "      <th>...</th>\n",
              "      <td>...</td>\n",
              "      <td>...</td>\n",
              "    </tr>\n",
              "    <tr>\n",
              "      <th>145</th>\n",
              "      <td>5.2</td>\n",
              "      <td>2.3</td>\n",
              "    </tr>\n",
              "    <tr>\n",
              "      <th>146</th>\n",
              "      <td>5.0</td>\n",
              "      <td>1.9</td>\n",
              "    </tr>\n",
              "    <tr>\n",
              "      <th>147</th>\n",
              "      <td>5.2</td>\n",
              "      <td>2.0</td>\n",
              "    </tr>\n",
              "    <tr>\n",
              "      <th>148</th>\n",
              "      <td>5.4</td>\n",
              "      <td>2.3</td>\n",
              "    </tr>\n",
              "    <tr>\n",
              "      <th>149</th>\n",
              "      <td>5.1</td>\n",
              "      <td>1.8</td>\n",
              "    </tr>\n",
              "  </tbody>\n",
              "</table>\n",
              "<p>100 rows × 2 columns</p>\n",
              "</div>\n",
              "      <button class=\"colab-df-convert\" onclick=\"convertToInteractive('df-e336a301-b7c7-4837-bdd2-b4bb2d37271b')\"\n",
              "              title=\"Convert this dataframe to an interactive table.\"\n",
              "              style=\"display:none;\">\n",
              "        \n",
              "  <svg xmlns=\"http://www.w3.org/2000/svg\" height=\"24px\"viewBox=\"0 0 24 24\"\n",
              "       width=\"24px\">\n",
              "    <path d=\"M0 0h24v24H0V0z\" fill=\"none\"/>\n",
              "    <path d=\"M18.56 5.44l.94 2.06.94-2.06 2.06-.94-2.06-.94-.94-2.06-.94 2.06-2.06.94zm-11 1L8.5 8.5l.94-2.06 2.06-.94-2.06-.94L8.5 2.5l-.94 2.06-2.06.94zm10 10l.94 2.06.94-2.06 2.06-.94-2.06-.94-.94-2.06-.94 2.06-2.06.94z\"/><path d=\"M17.41 7.96l-1.37-1.37c-.4-.4-.92-.59-1.43-.59-.52 0-1.04.2-1.43.59L10.3 9.45l-7.72 7.72c-.78.78-.78 2.05 0 2.83L4 21.41c.39.39.9.59 1.41.59.51 0 1.02-.2 1.41-.59l7.78-7.78 2.81-2.81c.8-.78.8-2.07 0-2.86zM5.41 20L4 18.59l7.72-7.72 1.47 1.35L5.41 20z\"/>\n",
              "  </svg>\n",
              "      </button>\n",
              "      \n",
              "  <style>\n",
              "    .colab-df-container {\n",
              "      display:flex;\n",
              "      flex-wrap:wrap;\n",
              "      gap: 12px;\n",
              "    }\n",
              "\n",
              "    .colab-df-convert {\n",
              "      background-color: #E8F0FE;\n",
              "      border: none;\n",
              "      border-radius: 50%;\n",
              "      cursor: pointer;\n",
              "      display: none;\n",
              "      fill: #1967D2;\n",
              "      height: 32px;\n",
              "      padding: 0 0 0 0;\n",
              "      width: 32px;\n",
              "    }\n",
              "\n",
              "    .colab-df-convert:hover {\n",
              "      background-color: #E2EBFA;\n",
              "      box-shadow: 0px 1px 2px rgba(60, 64, 67, 0.3), 0px 1px 3px 1px rgba(60, 64, 67, 0.15);\n",
              "      fill: #174EA6;\n",
              "    }\n",
              "\n",
              "    [theme=dark] .colab-df-convert {\n",
              "      background-color: #3B4455;\n",
              "      fill: #D2E3FC;\n",
              "    }\n",
              "\n",
              "    [theme=dark] .colab-df-convert:hover {\n",
              "      background-color: #434B5C;\n",
              "      box-shadow: 0px 1px 3px 1px rgba(0, 0, 0, 0.15);\n",
              "      filter: drop-shadow(0px 1px 2px rgba(0, 0, 0, 0.3));\n",
              "      fill: #FFFFFF;\n",
              "    }\n",
              "  </style>\n",
              "\n",
              "      <script>\n",
              "        const buttonEl =\n",
              "          document.querySelector('#df-e336a301-b7c7-4837-bdd2-b4bb2d37271b button.colab-df-convert');\n",
              "        buttonEl.style.display =\n",
              "          google.colab.kernel.accessAllowed ? 'block' : 'none';\n",
              "\n",
              "        async function convertToInteractive(key) {\n",
              "          const element = document.querySelector('#df-e336a301-b7c7-4837-bdd2-b4bb2d37271b');\n",
              "          const dataTable =\n",
              "            await google.colab.kernel.invokeFunction('convertToInteractive',\n",
              "                                                     [key], {});\n",
              "          if (!dataTable) return;\n",
              "\n",
              "          const docLinkHtml = 'Like what you see? Visit the ' +\n",
              "            '<a target=\"_blank\" href=https://colab.research.google.com/notebooks/data_table.ipynb>data table notebook</a>'\n",
              "            + ' to learn more about interactive tables.';\n",
              "          element.innerHTML = '';\n",
              "          dataTable['output_type'] = 'display_data';\n",
              "          await google.colab.output.renderOutput(dataTable, element);\n",
              "          const docLink = document.createElement('div');\n",
              "          docLink.innerHTML = docLinkHtml;\n",
              "          element.appendChild(docLink);\n",
              "        }\n",
              "      </script>\n",
              "    </div>\n",
              "  </div>\n",
              "  "
            ]
          },
          "metadata": {},
          "execution_count": 22
        }
      ],
      "source": [
        "# Separando X e y\n",
        "X = iris1.drop('target',axis=1)\n",
        "y = iris1.target\n",
        "X.head(100)"
      ]
    },
    {
      "cell_type": "markdown",
      "source": [
        "# **Montagens de Algoritmos de Árvore de Decisão**\n",
        "> Existem Bibliotecas Auxiliares com Implementações prontas. É útil entender alguns conceitos como Entropia e Ganho de Informação, pois esses são passados para as Funções. Existem métodos fáceis e intuitivos para gerar o Algoritmo para conduzir Classificação ou Regressão:\n",
        "*   **Python**: com Módulo DecisionTreeClassifier, da Sci-Kit Learn, com Funções fit e score para Treinamento e Configuração. Para ver se um Modelo conseguiu fazer o Aprendizado, usa-se o Método predict. O Matplotlib pode ser usado para Plotagem de Grafos.\n",
        "*   **R**: No R, também pode-se ter facilidade para a Árvore Decisória. Bibliotecas como cTree, RPart e Tree podem conseguir criar esse Modelo com poucas linhas e de forma intuitiva. Também existe o Método \"fit\"."
      ],
      "metadata": {
        "id": "818_nxerk8is"
      },
      "id": "818_nxerk8is"
    },
    {
      "cell_type": "code",
      "execution_count": null,
      "id": "2f6ab45d",
      "metadata": {
        "id": "2f6ab45d"
      },
      "outputs": [],
      "source": [
        "# Fazendo o train_test_split\n",
        "from sklearn.model_selection import train_test_split\n",
        "X_train, X_test, y_train, y_test = train_test_split(X, y, test_size=1, random_state=42)"
      ]
    },
    {
      "cell_type": "code",
      "execution_count": null,
      "id": "7646c862",
      "metadata": {
        "id": "7646c862",
        "outputId": "86662cc9-1629-4554-c0af-3da002a43c71",
        "colab": {
          "base_uri": "https://localhost:8080/",
          "height": 265
        }
      },
      "outputs": [
        {
          "output_type": "display_data",
          "data": {
            "text/plain": [
              "<Figure size 432x288 with 1 Axes>"
            ],
            "image/png": "[encoded data removed]"
          },
          "metadata": {
            "needs_background": "light"
          }
        }
      ],
      "source": [
        "# Visualizando os dados de treino\n",
        "import matplotlib.pyplot as plt\n",
        "fig, ax = plt.subplots()\n",
        "ax.scatter(X_train['petal length (cm)'],\n",
        "           X_train['petal width (cm)'],\n",
        "           c=y_train)\n",
        "ax.set(xlim=(2.9, 7), xticks=[3,4,5,6,7],\n",
        "       ylim=(0.9, 2.7), yticks=[1,1.5,2,2.5])\n",
        "plt.show()"
      ]
    },
    {
      "cell_type": "code",
      "execution_count": null,
      "id": "4cf72e09",
      "metadata": {
        "id": "4cf72e09"
      },
      "outputs": [],
      "source": [
        "# Importando a árvore de decisão\n",
        "from sklearn import tree"
      ]
    },
    {
      "cell_type": "code",
      "execution_count": null,
      "id": "4931ae33",
      "metadata": {
        "id": "4931ae33"
      },
      "outputs": [],
      "source": [
        "# Criando o classificador\n",
        "clf = tree.DecisionTreeClassifier(random_state=42)"
      ]
    },
    {
      "cell_type": "markdown",
      "source": [
        "# **Exemplos de Árvore de Decisão**\n",
        "## Diagnóstico de Doenças\n",
        "> Uma decision tree pode ser aplicada para identificar doenças a partir de informações cedidas ao algoritmo como treinamento — uma classificação. Nesse caso, o sistema apreende os dados, entende suas relações, realiza os cálculos a fim de entender quais são os nós mais importantes e ajusta as condições. \n",
        "## Previsão de Empréstimo \n",
        "> Outro tipo de uso é para previsão de um valor de empréstimo que pode ser concedido a um usuário do banco. Esse é um problema de regressão, pois requer uma informação numérica como saída. O sistema vai entender como a base de dados está organizada de acordo com os atributos e criar um modelo capaz de fazer essa previsão. \n",
        "## Análise de Sentimentos\n",
        "> Não é incomum ver também aplicações na área da análise de sentimentos, subcategoria do campo de processamento de linguagem natural. O modelo entende os dados e tenta prever se um texto deve ser categorizado como positivo ou negativo, por exemplo. Para melhores resultados, a random forest é aplicada também.\n",
        "## Previsão de Saída de Funcionários\n",
        "> Outro uso muito específico é para o RH saber quando um funcionário está quase saindo da empresa por insatisfação. Com a análise de dados sobre cada um, o modelo entende a base de dados e consegue realizar uma predição, ou seja, uma classificação.\n",
        "\n"
      ],
      "metadata": {
        "id": "Cod0zIESmJJa"
      },
      "id": "Cod0zIESmJJa"
    },
    {
      "cell_type": "code",
      "execution_count": null,
      "id": "4e6b09a7",
      "metadata": {
        "id": "4e6b09a7"
      },
      "outputs": [],
      "source": [
        "# Fazendo o fit com os dados de treino\n",
        "clf = clf.fit(X_train, y_train)"
      ]
    },
    {
      "cell_type": "code",
      "execution_count": null,
      "id": "7b6a410e",
      "metadata": {
        "id": "7b6a410e",
        "outputId": "22262463-2299-48fd-de32-dabf2426b6c6",
        "colab": {
          "base_uri": "https://localhost:8080/"
        }
      },
      "outputs": [
        {
          "output_type": "execute_result",
          "data": {
            "text/plain": [
              "1.0"
            ]
          },
          "metadata": {},
          "execution_count": 100
        }
      ],
      "source": [
        "# Verificando o score\n",
        "clf.score(X_train, y_train)"
      ]
    },
    {
      "cell_type": "code",
      "execution_count": null,
      "id": "2dbfc3bc",
      "metadata": {
        "id": "2dbfc3bc",
        "outputId": "2a917de9-80b2-463e-f215-6e504236f512",
        "colab": {
          "base_uri": "https://localhost:8080/",
          "height": 575
        }
      },
      "outputs": [
        {
          "output_type": "display_data",
          "data": {
            "text/plain": [
              "<Figure size 720x720 with 1 Axes>"
            ],
            "image/png": "[encoded data removed]"
          },
          "metadata": {
            "needs_background": "light"
          }
        }
      ],
      "source": [
        "# Visualizando essa árvore\n",
        "fig, ax = plt.subplots(figsize=(10,10))\n",
        "tree.plot_tree(clf)\n",
        "plt.show()"
      ]
    },
    {
      "cell_type": "code",
      "execution_count": null,
      "id": "b47d7b37",
      "metadata": {
        "id": "b47d7b37",
        "outputId": "6f5ccc47-0601-48d0-d49e-250a006d5732",
        "colab": {
          "base_uri": "https://localhost:8080/",
          "height": 265
        }
      },
      "outputs": [
        {
          "output_type": "display_data",
          "data": {
            "text/plain": [
              "<Figure size 432x288 with 1 Axes>"
            ],
            "image/png": "[encoded data removed]"
          },
          "metadata": {
            "needs_background": "light"
          }
        }
      ],
      "source": [
        "# Podemos adicionar essas regras no nosso gráfico\n",
        "fig, ax = plt.subplots()\n",
        "ax.scatter(X_train['petal length (cm)'], \n",
        "           X_train['petal width (cm)'], \n",
        "           c=y_train)\n",
        "ax.plot([5.2,5.2],[0.9,1.45],'--r')\n",
        "ax.plot([5.2,5.2],[1.58,1.75,],'--r')\n",
        "ax.plot([2.9,4.95],[1.65,1.65],'--r')\n",
        "ax.plot([4.95,5.2],[1.55,1.55],'--r')\n",
        "ax.plot([4.95,4.95],[1.45,1.55],'--r')\n",
        "ax.plot([4.95,5.2],[1.45,1.45],'--r')\n",
        "ax.plot([4.95,5.2],[1.45,1.45],'--r')\n",
        "ax.plot([4.95,4.95],[1.65,1.75],'--r')\n",
        "ax.plot([4.95,5.2],[1.75,1.75],'--r')\n",
        "ax.set(xlim=(2.9, 7), xticks=[3,4,5,6,7,8],\n",
        "       ylim=(0.9, 2.7), yticks=[1,1.5,2,2.5,3])\n",
        "plt.show()"
      ]
    },
    {
      "cell_type": "markdown",
      "source": [
        "# **Matriz de Confusão: Conceito e Aplicação**\n",
        "> A Matriz de Confusão é uma Tabela que permite a Visualização do Desempenho de um Algoritmo de Classificação por meio de uma Tabela de Contingência 2x2 Especial, chamada de **Matriz de Erro**. Cada Linha da Matriz representa Instâncias de uma Classe Prevista enquanto cada Coluna representa Instâncias da Classe Atual. Isso ocorre para verificar se o Sistema confunde Duas Classes.\n",
        "\n",
        "> A Tabela de Erro carrega Duas Dimensões (Atual e Prevista), e conjuntos de Classes Idênticos em ambas as Dimensões (cada Combinação das Dimensões e Classe é uma Variável na Tabela de Contingência). Em Análise Preditiva, a Matriz de Confusão é uma Tabela que relata:\n",
        "*   **Verdadeiros Positivos**: Elemento 1x1 da Matriz.\n",
        "*   **Falsos Positivos**: Elemento 1x2 da Matriz.\n",
        "*   **Falsos Negativos**: Elemento 2x1 da Matriz.\n",
        "*   **Verdadeiros Negativos**: Elemento 2x2 da Matriz.\n",
        "\n",
        "> Isso permite uma Análise Detalhada do que a mera Proporção de Classificações Corretas (Precisão). A Precisão produzirá Resultados Enganosos se o Conjunto de Dados estiver desequilibrado; isto é, quando o Número de Observações em Diferentes Classes variam muito. Por exemplo, se houver 95 gatos e apenas 5 cachorros nos dados, um determinado Classificador pode classificar todas as observações como gatos. \n",
        "\n",
        "> A Precisão Geral seria de 95%, mas com mais detalhes o Classificador teria uma Taxa de Reconhecimento de 100% para a Classe de Gatos, mas uma Taxa de Reconhecimento de 0% para a Classe de Cães. O **F1 Score (ou F-Measure)** é ainda mais confiável em tais casos, e aqui renderia mais de 97,4%, enquanto remove o viés e produz 0 como a Probabilidade de uma Decisão Informada para qualquer forma de Suposição (aqui sempre supondo gato).\n",
        "\n",
        "\n",
        "\n",
        "\n",
        "\n",
        "\n",
        "\n",
        "\n",
        " "
      ],
      "metadata": {
        "id": "K_obXkt6qA-m"
      },
      "id": "K_obXkt6qA-m"
    },
    {
      "cell_type": "code",
      "execution_count": null,
      "id": "fd32d2c7",
      "metadata": {
        "id": "fd32d2c7",
        "outputId": "5a3c1cfe-6a57-4ad7-c8bb-c10d07c45922",
        "colab": {
          "base_uri": "https://localhost:8080/"
        }
      },
      "outputs": [
        {
          "output_type": "execute_result",
          "data": {
            "text/plain": [
              "array([[1]])"
            ]
          },
          "metadata": {},
          "execution_count": 103
        }
      ],
      "source": [
        "# Fazendo a previsão e avaliando o erro\n",
        "y_pred = clf.predict(X_test)\n",
        "from sklearn.metrics import confusion_matrix\n",
        "confusion_matrix(y_test,y_pred)"
      ]
    },
    {
      "cell_type": "code",
      "execution_count": null,
      "id": "9f2d6c2f",
      "metadata": {
        "id": "9f2d6c2f"
      },
      "outputs": [],
      "source": [
        "# Separando X e y da base completa\n",
        "X = iris.drop('target',axis=1)\n",
        "y = iris.target"
      ]
    },
    {
      "cell_type": "code",
      "execution_count": null,
      "id": "03581f7d",
      "metadata": {
        "id": "03581f7d"
      },
      "outputs": [],
      "source": [
        "# Fazendo o train_test_split\n",
        "from sklearn.model_selection import train_test_split\n",
        "X_train, X_test, y_train, y_test = train_test_split(X, y, test_size=0.33, random_state=42)"
      ]
    },
    {
      "cell_type": "code",
      "execution_count": null,
      "id": "67aa2c5b",
      "metadata": {
        "id": "67aa2c5b"
      },
      "outputs": [],
      "source": [
        "# Criando o classificador e fazendo o fit\n",
        "clf2 = tree.DecisionTreeClassifier(random_state=42).fit(X_train,y_train)"
      ]
    },
    {
      "cell_type": "code",
      "execution_count": null,
      "id": "dcacec94",
      "metadata": {
        "id": "dcacec94",
        "outputId": "9b02a59b-4120-4770-9d2c-8172ca5c81f1",
        "colab": {
          "base_uri": "https://localhost:8080/"
        }
      },
      "outputs": [
        {
          "output_type": "execute_result",
          "data": {
            "text/plain": [
              "1.0"
            ]
          },
          "metadata": {},
          "execution_count": 111
        }
      ],
      "source": [
        "# Verificando o score\n",
        "clf2.score(X_train,y_train)"
      ]
    },
    {
      "cell_type": "code",
      "execution_count": null,
      "id": "2ef44671",
      "metadata": {
        "id": "2ef44671",
        "outputId": "64fd802f-f82d-4a91-b981-3aa37b775716",
        "colab": {
          "base_uri": "https://localhost:8080/",
          "height": 466
        }
      },
      "outputs": [
        {
          "output_type": "display_data",
          "data": {
            "text/plain": [
              "<Figure size 720x576 with 1 Axes>"
            ],
            "image/png": "[encoded data removed]"
          },
          "metadata": {
            "needs_background": "light"
          }
        }
      ],
      "source": [
        "# Visualizando essa árvore\n",
        "fig, ax = plt.subplots(figsize=(10,8))\n",
        "tree.plot_tree(clf2)\n",
        "plt.show()"
      ]
    },
    {
      "cell_type": "code",
      "execution_count": null,
      "id": "77a01520",
      "metadata": {
        "id": "77a01520"
      },
      "outputs": [],
      "source": [
        "# Fazendo a previsão\n",
        "y_pred2 = clf2.predict(X_test)"
      ]
    },
    {
      "cell_type": "code",
      "execution_count": null,
      "id": "a5c103a0",
      "metadata": {
        "id": "a5c103a0",
        "outputId": "a701adbe-b40d-430b-9298-7e2517643bc8",
        "colab": {
          "base_uri": "https://localhost:8080/"
        }
      },
      "outputs": [
        {
          "output_type": "execute_result",
          "data": {
            "text/plain": [
              "array([[1]])"
            ]
          },
          "metadata": {},
          "execution_count": 107
        }
      ],
      "source": [
        "# Avaliando o modelo\n",
        "confusion_matrix(y_test,y_pred2)"
      ]
    }
  ],
  "metadata": {
    "kernelspec": {
      "display_name": "Python 3 (ipykernel)",
      "language": "python",
      "name": "python3"
    },
    "language_info": {
      "codemirror_mode": {
        "name": "ipython",
        "version": 3
      },
      "file_extension": ".py",
      "mimetype": "text/x-python",
      "name": "python",
      "nbconvert_exporter": "python",
      "pygments_lexer": "ipython3",
      "version": "3.9.7"
    },
    "colab": {
      "provenance": [],
      "include_colab_link": true
    }
  },
  "nbformat": 4,
  "nbformat_minor": 5
}